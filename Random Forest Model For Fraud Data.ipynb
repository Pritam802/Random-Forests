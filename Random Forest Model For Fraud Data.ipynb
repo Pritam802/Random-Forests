{
 "cells": [
  {
   "cell_type": "code",
   "execution_count": 2,
   "id": "2902f722",
   "metadata": {},
   "outputs": [],
   "source": [
    "#importing necessary libraries\n",
    "import pandas as pd\n",
    "import numpy as np\n",
    "import matplotlib.pyplot as plt\n",
    "df = pd.read_csv(\"Fraud_check.csv\")"
   ]
  },
  {
   "cell_type": "code",
   "execution_count": 3,
   "id": "e2ef70d1",
   "metadata": {},
   "outputs": [
    {
     "data": {
      "text/html": [
       "<div>\n",
       "<style scoped>\n",
       "    .dataframe tbody tr th:only-of-type {\n",
       "        vertical-align: middle;\n",
       "    }\n",
       "\n",
       "    .dataframe tbody tr th {\n",
       "        vertical-align: top;\n",
       "    }\n",
       "\n",
       "    .dataframe thead th {\n",
       "        text-align: right;\n",
       "    }\n",
       "</style>\n",
       "<table border=\"1\" class=\"dataframe\">\n",
       "  <thead>\n",
       "    <tr style=\"text-align: right;\">\n",
       "      <th></th>\n",
       "      <th>Undergrad</th>\n",
       "      <th>Marital.Status</th>\n",
       "      <th>Taxable.Income</th>\n",
       "      <th>City.Population</th>\n",
       "      <th>Work.Experience</th>\n",
       "      <th>Urban</th>\n",
       "    </tr>\n",
       "  </thead>\n",
       "  <tbody>\n",
       "    <tr>\n",
       "      <th>0</th>\n",
       "      <td>NO</td>\n",
       "      <td>Single</td>\n",
       "      <td>68833</td>\n",
       "      <td>50047</td>\n",
       "      <td>10</td>\n",
       "      <td>YES</td>\n",
       "    </tr>\n",
       "    <tr>\n",
       "      <th>1</th>\n",
       "      <td>YES</td>\n",
       "      <td>Divorced</td>\n",
       "      <td>33700</td>\n",
       "      <td>134075</td>\n",
       "      <td>18</td>\n",
       "      <td>YES</td>\n",
       "    </tr>\n",
       "    <tr>\n",
       "      <th>2</th>\n",
       "      <td>NO</td>\n",
       "      <td>Married</td>\n",
       "      <td>36925</td>\n",
       "      <td>160205</td>\n",
       "      <td>30</td>\n",
       "      <td>YES</td>\n",
       "    </tr>\n",
       "    <tr>\n",
       "      <th>3</th>\n",
       "      <td>YES</td>\n",
       "      <td>Single</td>\n",
       "      <td>50190</td>\n",
       "      <td>193264</td>\n",
       "      <td>15</td>\n",
       "      <td>YES</td>\n",
       "    </tr>\n",
       "    <tr>\n",
       "      <th>4</th>\n",
       "      <td>NO</td>\n",
       "      <td>Married</td>\n",
       "      <td>81002</td>\n",
       "      <td>27533</td>\n",
       "      <td>28</td>\n",
       "      <td>NO</td>\n",
       "    </tr>\n",
       "  </tbody>\n",
       "</table>\n",
       "</div>"
      ],
      "text/plain": [
       "  Undergrad Marital.Status  Taxable.Income  City.Population  Work.Experience  \\\n",
       "0        NO         Single           68833            50047               10   \n",
       "1       YES       Divorced           33700           134075               18   \n",
       "2        NO        Married           36925           160205               30   \n",
       "3       YES         Single           50190           193264               15   \n",
       "4        NO        Married           81002            27533               28   \n",
       "\n",
       "  Urban  \n",
       "0   YES  \n",
       "1   YES  \n",
       "2   YES  \n",
       "3   YES  \n",
       "4    NO  "
      ]
     },
     "execution_count": 3,
     "metadata": {},
     "output_type": "execute_result"
    }
   ],
   "source": [
    "df.head()"
   ]
  },
  {
   "cell_type": "code",
   "execution_count": 4,
   "id": "b98383b3",
   "metadata": {},
   "outputs": [],
   "source": [
    "#Creating dummy vairables for ['Undergrad','Marital.Status','Urban'] dropping first dummy variable\n",
    "df=pd.get_dummies(df,columns=['Undergrad','Marital.Status','Urban'], drop_first=True)"
   ]
  },
  {
   "cell_type": "code",
   "execution_count": 5,
   "id": "ac51dc7b",
   "metadata": {},
   "outputs": [],
   "source": [
    "#Creating new cols TaxInc and dividing 'Taxable.Income' cols on the basis of [10002,30000,99620] for Risky and Good\n",
    "df[\"TaxInc\"] = pd.cut(df[\"Taxable.Income\"], bins = [10002,30000,99620], labels = [\"Risky\", \"Good\"])"
   ]
  },
  {
   "cell_type": "code",
   "execution_count": 6,
   "id": "ab4751d8",
   "metadata": {},
   "outputs": [],
   "source": [
    "#Lets assume: taxable_income <= 30000 as “Risky=0” and others are “Good=1”"
   ]
  },
  {
   "cell_type": "code",
   "execution_count": 7,
   "id": "f3d04849",
   "metadata": {},
   "outputs": [],
   "source": [
    "#After creation of new col. TaxInc also made its dummies var concating right side of df\n",
    "df = pd.get_dummies(df,columns = [\"TaxInc\"],drop_first=True)"
   ]
  },
  {
   "cell_type": "code",
   "execution_count": 8,
   "id": "82091d6e",
   "metadata": {
    "scrolled": true
   },
   "outputs": [
    {
     "data": {
      "text/html": [
       "<div>\n",
       "<style scoped>\n",
       "    .dataframe tbody tr th:only-of-type {\n",
       "        vertical-align: middle;\n",
       "    }\n",
       "\n",
       "    .dataframe tbody tr th {\n",
       "        vertical-align: top;\n",
       "    }\n",
       "\n",
       "    .dataframe thead th {\n",
       "        text-align: right;\n",
       "    }\n",
       "</style>\n",
       "<table border=\"1\" class=\"dataframe\">\n",
       "  <thead>\n",
       "    <tr style=\"text-align: right;\">\n",
       "      <th></th>\n",
       "      <th>Taxable.Income</th>\n",
       "      <th>City.Population</th>\n",
       "      <th>Work.Experience</th>\n",
       "      <th>Undergrad_YES</th>\n",
       "      <th>Marital.Status_Married</th>\n",
       "      <th>Marital.Status_Single</th>\n",
       "      <th>Urban_YES</th>\n",
       "      <th>TaxInc_Good</th>\n",
       "    </tr>\n",
       "  </thead>\n",
       "  <tbody>\n",
       "    <tr>\n",
       "      <th>590</th>\n",
       "      <td>43018</td>\n",
       "      <td>85195</td>\n",
       "      <td>14</td>\n",
       "      <td>0</td>\n",
       "      <td>1</td>\n",
       "      <td>0</td>\n",
       "      <td>1</td>\n",
       "      <td>1</td>\n",
       "    </tr>\n",
       "    <tr>\n",
       "      <th>591</th>\n",
       "      <td>27394</td>\n",
       "      <td>132859</td>\n",
       "      <td>18</td>\n",
       "      <td>1</td>\n",
       "      <td>0</td>\n",
       "      <td>1</td>\n",
       "      <td>1</td>\n",
       "      <td>0</td>\n",
       "    </tr>\n",
       "    <tr>\n",
       "      <th>592</th>\n",
       "      <td>68152</td>\n",
       "      <td>75143</td>\n",
       "      <td>16</td>\n",
       "      <td>1</td>\n",
       "      <td>0</td>\n",
       "      <td>1</td>\n",
       "      <td>0</td>\n",
       "      <td>1</td>\n",
       "    </tr>\n",
       "    <tr>\n",
       "      <th>593</th>\n",
       "      <td>84775</td>\n",
       "      <td>131963</td>\n",
       "      <td>10</td>\n",
       "      <td>0</td>\n",
       "      <td>0</td>\n",
       "      <td>0</td>\n",
       "      <td>1</td>\n",
       "      <td>1</td>\n",
       "    </tr>\n",
       "    <tr>\n",
       "      <th>594</th>\n",
       "      <td>47364</td>\n",
       "      <td>97526</td>\n",
       "      <td>9</td>\n",
       "      <td>0</td>\n",
       "      <td>1</td>\n",
       "      <td>0</td>\n",
       "      <td>1</td>\n",
       "      <td>1</td>\n",
       "    </tr>\n",
       "    <tr>\n",
       "      <th>595</th>\n",
       "      <td>76340</td>\n",
       "      <td>39492</td>\n",
       "      <td>7</td>\n",
       "      <td>1</td>\n",
       "      <td>0</td>\n",
       "      <td>0</td>\n",
       "      <td>1</td>\n",
       "      <td>1</td>\n",
       "    </tr>\n",
       "    <tr>\n",
       "      <th>596</th>\n",
       "      <td>69967</td>\n",
       "      <td>55369</td>\n",
       "      <td>2</td>\n",
       "      <td>1</td>\n",
       "      <td>0</td>\n",
       "      <td>0</td>\n",
       "      <td>1</td>\n",
       "      <td>1</td>\n",
       "    </tr>\n",
       "    <tr>\n",
       "      <th>597</th>\n",
       "      <td>47334</td>\n",
       "      <td>154058</td>\n",
       "      <td>0</td>\n",
       "      <td>0</td>\n",
       "      <td>0</td>\n",
       "      <td>0</td>\n",
       "      <td>1</td>\n",
       "      <td>1</td>\n",
       "    </tr>\n",
       "    <tr>\n",
       "      <th>598</th>\n",
       "      <td>98592</td>\n",
       "      <td>180083</td>\n",
       "      <td>17</td>\n",
       "      <td>1</td>\n",
       "      <td>1</td>\n",
       "      <td>0</td>\n",
       "      <td>0</td>\n",
       "      <td>1</td>\n",
       "    </tr>\n",
       "    <tr>\n",
       "      <th>599</th>\n",
       "      <td>96519</td>\n",
       "      <td>158137</td>\n",
       "      <td>16</td>\n",
       "      <td>0</td>\n",
       "      <td>0</td>\n",
       "      <td>0</td>\n",
       "      <td>0</td>\n",
       "      <td>1</td>\n",
       "    </tr>\n",
       "  </tbody>\n",
       "</table>\n",
       "</div>"
      ],
      "text/plain": [
       "     Taxable.Income  City.Population  Work.Experience  Undergrad_YES  \\\n",
       "590           43018            85195               14              0   \n",
       "591           27394           132859               18              1   \n",
       "592           68152            75143               16              1   \n",
       "593           84775           131963               10              0   \n",
       "594           47364            97526                9              0   \n",
       "595           76340            39492                7              1   \n",
       "596           69967            55369                2              1   \n",
       "597           47334           154058                0              0   \n",
       "598           98592           180083               17              1   \n",
       "599           96519           158137               16              0   \n",
       "\n",
       "     Marital.Status_Married  Marital.Status_Single  Urban_YES  TaxInc_Good  \n",
       "590                       1                      0          1            1  \n",
       "591                       0                      1          1            0  \n",
       "592                       0                      1          0            1  \n",
       "593                       0                      0          1            1  \n",
       "594                       1                      0          1            1  \n",
       "595                       0                      0          1            1  \n",
       "596                       0                      0          1            1  \n",
       "597                       0                      0          1            1  \n",
       "598                       1                      0          0            1  \n",
       "599                       0                      0          0            1  "
      ]
     },
     "execution_count": 8,
     "metadata": {},
     "output_type": "execute_result"
    }
   ],
   "source": [
    "#Viewing buttom 10 observations\n",
    "df.tail(10)"
   ]
  },
  {
   "cell_type": "code",
   "execution_count": 9,
   "id": "6ded74a6",
   "metadata": {},
   "outputs": [
    {
     "data": {
      "text/plain": [
       "<AxesSubplot:xlabel='Work.Experience'>"
      ]
     },
     "execution_count": 9,
     "metadata": {},
     "output_type": "execute_result"
    },
    {
     "data": {
      "image/png": "[encoded data removed]",
      "text/plain": [
       "<Figure size 432x288 with 1 Axes>"
      ]
     },
     "metadata": {
      "needs_background": "light"
     },
     "output_type": "display_data"
    }
   ],
   "source": [
    "df.groupby('Work.Experience').TaxInc_Good.mean().plot(kind='bar')"
   ]
  },
  {
   "cell_type": "code",
   "execution_count": 10,
   "id": "b827019d",
   "metadata": {},
   "outputs": [
    {
     "data": {
      "text/plain": [
       "<AxesSubplot:xlabel='Undergrad_YES'>"
      ]
     },
     "execution_count": 10,
     "metadata": {},
     "output_type": "execute_result"
    },
    {
     "data": {
      "image/png": "[encoded data removed]",
      "text/plain": [
       "<Figure size 432x288 with 1 Axes>"
      ]
     },
     "metadata": {
      "needs_background": "light"
     },
     "output_type": "display_data"
    }
   ],
   "source": [
    "df.groupby('Undergrad_YES').TaxInc_Good.mean().plot(kind='bar')"
   ]
  },
  {
   "cell_type": "code",
   "execution_count": 11,
   "id": "12bc49c0",
   "metadata": {},
   "outputs": [
    {
     "data": {
      "text/plain": [
       "<AxesSubplot:xlabel='Marital.Status_Married'>"
      ]
     },
     "execution_count": 11,
     "metadata": {},
     "output_type": "execute_result"
    },
    {
     "data": {
      "image/png": "[encoded data removed]",
      "text/plain": [
       "<Figure size 432x288 with 1 Axes>"
      ]
     },
     "metadata": {
      "needs_background": "light"
     },
     "output_type": "display_data"
    }
   ],
   "source": [
    "df.groupby('Marital.Status_Married').TaxInc_Good.mean().plot(kind='bar')"
   ]
  },
  {
   "cell_type": "code",
   "execution_count": 12,
   "id": "056814a6",
   "metadata": {},
   "outputs": [
    {
     "data": {
      "text/plain": [
       "<AxesSubplot:xlabel='Marital.Status_Single'>"
      ]
     },
     "execution_count": 12,
     "metadata": {},
     "output_type": "execute_result"
    },
    {
     "data": {
      "image/png": "[encoded data removed]",
      "text/plain": [
       "<Figure size 432x288 with 1 Axes>"
      ]
     },
     "metadata": {
      "needs_background": "light"
     },
     "output_type": "display_data"
    }
   ],
   "source": [
    "df.groupby('Marital.Status_Single').TaxInc_Good.mean().plot(kind='bar')"
   ]
  },
  {
   "cell_type": "code",
   "execution_count": 13,
   "id": "167a4cc6",
   "metadata": {},
   "outputs": [
    {
     "data": {
      "text/plain": [
       "<AxesSubplot:xlabel='Urban_YES'>"
      ]
     },
     "execution_count": 13,
     "metadata": {},
     "output_type": "execute_result"
    },
    {
     "data": {
      "image/png": "[encoded data removed]",
      "text/plain": [
       "<Figure size 432x288 with 1 Axes>"
      ]
     },
     "metadata": {
      "needs_background": "light"
     },
     "output_type": "display_data"
    }
   ],
   "source": [
    "df.groupby('Urban_YES').TaxInc_Good.mean().plot(kind='bar')"
   ]
  },
  {
   "cell_type": "code",
   "execution_count": 8,
   "id": "4cfbc98d",
   "metadata": {},
   "outputs": [],
   "source": [
    "# Normalization function \n",
    "def norm_func(i):\n",
    "    x = (i-i.min())/(i.max()-i.min())\n",
    "    return (x)"
   ]
  },
  {
   "cell_type": "code",
   "execution_count": 9,
   "id": "d5094826",
   "metadata": {},
   "outputs": [
    {
     "data": {
      "text/html": [
       "<div>\n",
       "<style scoped>\n",
       "    .dataframe tbody tr th:only-of-type {\n",
       "        vertical-align: middle;\n",
       "    }\n",
       "\n",
       "    .dataframe tbody tr th {\n",
       "        vertical-align: top;\n",
       "    }\n",
       "\n",
       "    .dataframe thead th {\n",
       "        text-align: right;\n",
       "    }\n",
       "</style>\n",
       "<table border=\"1\" class=\"dataframe\">\n",
       "  <thead>\n",
       "    <tr style=\"text-align: right;\">\n",
       "      <th></th>\n",
       "      <th>City.Population</th>\n",
       "      <th>Work.Experience</th>\n",
       "      <th>Undergrad_YES</th>\n",
       "      <th>Marital.Status_Married</th>\n",
       "      <th>Marital.Status_Single</th>\n",
       "      <th>Urban_YES</th>\n",
       "      <th>TaxInc_Good</th>\n",
       "    </tr>\n",
       "  </thead>\n",
       "  <tbody>\n",
       "    <tr>\n",
       "      <th>590</th>\n",
       "      <td>0.341473</td>\n",
       "      <td>0.466667</td>\n",
       "      <td>0.0</td>\n",
       "      <td>1.0</td>\n",
       "      <td>0.0</td>\n",
       "      <td>1.0</td>\n",
       "      <td>1.0</td>\n",
       "    </tr>\n",
       "    <tr>\n",
       "      <th>591</th>\n",
       "      <td>0.615406</td>\n",
       "      <td>0.600000</td>\n",
       "      <td>1.0</td>\n",
       "      <td>0.0</td>\n",
       "      <td>1.0</td>\n",
       "      <td>1.0</td>\n",
       "      <td>0.0</td>\n",
       "    </tr>\n",
       "    <tr>\n",
       "      <th>592</th>\n",
       "      <td>0.283703</td>\n",
       "      <td>0.533333</td>\n",
       "      <td>1.0</td>\n",
       "      <td>0.0</td>\n",
       "      <td>1.0</td>\n",
       "      <td>0.0</td>\n",
       "      <td>1.0</td>\n",
       "    </tr>\n",
       "    <tr>\n",
       "      <th>593</th>\n",
       "      <td>0.610256</td>\n",
       "      <td>0.333333</td>\n",
       "      <td>0.0</td>\n",
       "      <td>0.0</td>\n",
       "      <td>0.0</td>\n",
       "      <td>1.0</td>\n",
       "      <td>1.0</td>\n",
       "    </tr>\n",
       "    <tr>\n",
       "      <th>594</th>\n",
       "      <td>0.412341</td>\n",
       "      <td>0.300000</td>\n",
       "      <td>0.0</td>\n",
       "      <td>1.0</td>\n",
       "      <td>0.0</td>\n",
       "      <td>1.0</td>\n",
       "      <td>1.0</td>\n",
       "    </tr>\n",
       "    <tr>\n",
       "      <th>595</th>\n",
       "      <td>0.078811</td>\n",
       "      <td>0.233333</td>\n",
       "      <td>1.0</td>\n",
       "      <td>0.0</td>\n",
       "      <td>0.0</td>\n",
       "      <td>1.0</td>\n",
       "      <td>1.0</td>\n",
       "    </tr>\n",
       "    <tr>\n",
       "      <th>596</th>\n",
       "      <td>0.170058</td>\n",
       "      <td>0.066667</td>\n",
       "      <td>1.0</td>\n",
       "      <td>0.0</td>\n",
       "      <td>0.0</td>\n",
       "      <td>1.0</td>\n",
       "      <td>1.0</td>\n",
       "    </tr>\n",
       "    <tr>\n",
       "      <th>597</th>\n",
       "      <td>0.737240</td>\n",
       "      <td>0.000000</td>\n",
       "      <td>0.0</td>\n",
       "      <td>0.0</td>\n",
       "      <td>0.0</td>\n",
       "      <td>1.0</td>\n",
       "      <td>1.0</td>\n",
       "    </tr>\n",
       "    <tr>\n",
       "      <th>598</th>\n",
       "      <td>0.886810</td>\n",
       "      <td>0.566667</td>\n",
       "      <td>1.0</td>\n",
       "      <td>1.0</td>\n",
       "      <td>0.0</td>\n",
       "      <td>0.0</td>\n",
       "      <td>1.0</td>\n",
       "    </tr>\n",
       "    <tr>\n",
       "      <th>599</th>\n",
       "      <td>0.760683</td>\n",
       "      <td>0.533333</td>\n",
       "      <td>0.0</td>\n",
       "      <td>0.0</td>\n",
       "      <td>0.0</td>\n",
       "      <td>0.0</td>\n",
       "      <td>1.0</td>\n",
       "    </tr>\n",
       "  </tbody>\n",
       "</table>\n",
       "</div>"
      ],
      "text/plain": [
       "     City.Population  Work.Experience  Undergrad_YES  Marital.Status_Married  \\\n",
       "590         0.341473         0.466667            0.0                     1.0   \n",
       "591         0.615406         0.600000            1.0                     0.0   \n",
       "592         0.283703         0.533333            1.0                     0.0   \n",
       "593         0.610256         0.333333            0.0                     0.0   \n",
       "594         0.412341         0.300000            0.0                     1.0   \n",
       "595         0.078811         0.233333            1.0                     0.0   \n",
       "596         0.170058         0.066667            1.0                     0.0   \n",
       "597         0.737240         0.000000            0.0                     0.0   \n",
       "598         0.886810         0.566667            1.0                     1.0   \n",
       "599         0.760683         0.533333            0.0                     0.0   \n",
       "\n",
       "     Marital.Status_Single  Urban_YES  TaxInc_Good  \n",
       "590                    0.0        1.0          1.0  \n",
       "591                    1.0        1.0          0.0  \n",
       "592                    1.0        0.0          1.0  \n",
       "593                    0.0        1.0          1.0  \n",
       "594                    0.0        1.0          1.0  \n",
       "595                    0.0        1.0          1.0  \n",
       "596                    0.0        1.0          1.0  \n",
       "597                    0.0        1.0          1.0  \n",
       "598                    0.0        0.0          1.0  \n",
       "599                    0.0        0.0          1.0  "
      ]
     },
     "execution_count": 9,
     "metadata": {},
     "output_type": "execute_result"
    }
   ],
   "source": [
    "# Normalized data frame (considering the numerical part of data)\n",
    "df_norm = norm_func(df.iloc[:,1:])\n",
    "df_norm.tail(10)"
   ]
  },
  {
   "cell_type": "code",
   "execution_count": 10,
   "id": "2cbda763",
   "metadata": {},
   "outputs": [],
   "source": [
    "# Declaring features & target\n",
    "X = df_norm.drop(['TaxInc_Good'], axis=1)\n",
    "y = df_norm['TaxInc_Good']"
   ]
  },
  {
   "cell_type": "code",
   "execution_count": 11,
   "id": "c83147cd",
   "metadata": {},
   "outputs": [],
   "source": [
    "from sklearn.model_selection import train_test_split"
   ]
  },
  {
   "cell_type": "code",
   "execution_count": 12,
   "id": "733674fa",
   "metadata": {},
   "outputs": [],
   "source": [
    "# Splitting data into train & test\n",
    "Xtrain, Xtest, ytrain, ytest = train_test_split(X, y, test_size=0.2, random_state=0)"
   ]
  },
  {
   "cell_type": "code",
   "execution_count": 13,
   "id": "20ef344f",
   "metadata": {},
   "outputs": [
    {
     "data": {
      "text/plain": [
       "RandomForestClassifier(criterion='entropy', n_estimators=15, n_jobs=3,\n",
       "                       oob_score=True)"
      ]
     },
     "execution_count": 13,
     "metadata": {},
     "output_type": "execute_result"
    }
   ],
   "source": [
    "#Choosing RandomForestClassifier\n",
    "from sklearn import tree\n",
    "from sklearn.ensemble import RandomForestClassifier as RF\n",
    "model = RF(n_jobs = 3,n_estimators = 15, oob_score = True, criterion = \"entropy\")\n",
    "model.fit(Xtrain,ytrain)"
   ]
  },
  {
   "cell_type": "code",
   "execution_count": 14,
   "id": "fb2f74bf",
   "metadata": {},
   "outputs": [
    {
     "data": {
      "text/plain": [
       "RandomForestClassifier(max_depth=3, min_samples_split=20)"
      ]
     },
     "execution_count": 14,
     "metadata": {},
     "output_type": "execute_result"
    }
   ],
   "source": [
    "# Creating new model testing with new parameters\n",
    "forest_new = RF(n_estimators=100,max_depth=3,min_samples_split=20,criterion='gini')  # n_estimators is the number of decision trees\n",
    "forest_new.fit(Xtrain, ytrain)"
   ]
  },
  {
   "cell_type": "code",
   "execution_count": 15,
   "id": "96d207cb",
   "metadata": {},
   "outputs": [
    {
     "data": {
      "text/plain": [
       "[DecisionTreeClassifier(max_depth=3, max_features='auto', min_samples_split=20,\n",
       "                        random_state=1822756813),\n",
       " DecisionTreeClassifier(max_depth=3, max_features='auto', min_samples_split=20,\n",
       "                        random_state=711063684),\n",
       " DecisionTreeClassifier(max_depth=3, max_features='auto', min_samples_split=20,\n",
       "                        random_state=1289694894),\n",
       " DecisionTreeClassifier(max_depth=3, max_features='auto', min_samples_split=20,\n",
       "                        random_state=853957316),\n",
       " DecisionTreeClassifier(max_depth=3, max_features='auto', min_samples_split=20,\n",
       "                        random_state=1903400144),\n",
       " DecisionTreeClassifier(max_depth=3, max_features='auto', min_samples_split=20,\n",
       "                        random_state=182905612),\n",
       " DecisionTreeClassifier(max_depth=3, max_features='auto', min_samples_split=20,\n",
       "                        random_state=1474381526),\n",
       " DecisionTreeClassifier(max_depth=3, max_features='auto', min_samples_split=20,\n",
       "                        random_state=358761775),\n",
       " DecisionTreeClassifier(max_depth=3, max_features='auto', min_samples_split=20,\n",
       "                        random_state=1714549771),\n",
       " DecisionTreeClassifier(max_depth=3, max_features='auto', min_samples_split=20,\n",
       "                        random_state=436705997),\n",
       " DecisionTreeClassifier(max_depth=3, max_features='auto', min_samples_split=20,\n",
       "                        random_state=1572750754),\n",
       " DecisionTreeClassifier(max_depth=3, max_features='auto', min_samples_split=20,\n",
       "                        random_state=735171884),\n",
       " DecisionTreeClassifier(max_depth=3, max_features='auto', min_samples_split=20,\n",
       "                        random_state=1472002613),\n",
       " DecisionTreeClassifier(max_depth=3, max_features='auto', min_samples_split=20,\n",
       "                        random_state=1504412694),\n",
       " DecisionTreeClassifier(max_depth=3, max_features='auto', min_samples_split=20,\n",
       "                        random_state=673531126),\n",
       " DecisionTreeClassifier(max_depth=3, max_features='auto', min_samples_split=20,\n",
       "                        random_state=170610440),\n",
       " DecisionTreeClassifier(max_depth=3, max_features='auto', min_samples_split=20,\n",
       "                        random_state=233724855),\n",
       " DecisionTreeClassifier(max_depth=3, max_features='auto', min_samples_split=20,\n",
       "                        random_state=1518634954),\n",
       " DecisionTreeClassifier(max_depth=3, max_features='auto', min_samples_split=20,\n",
       "                        random_state=327784003),\n",
       " DecisionTreeClassifier(max_depth=3, max_features='auto', min_samples_split=20,\n",
       "                        random_state=1239689345),\n",
       " DecisionTreeClassifier(max_depth=3, max_features='auto', min_samples_split=20,\n",
       "                        random_state=1652681546),\n",
       " DecisionTreeClassifier(max_depth=3, max_features='auto', min_samples_split=20,\n",
       "                        random_state=1711269753),\n",
       " DecisionTreeClassifier(max_depth=3, max_features='auto', min_samples_split=20,\n",
       "                        random_state=322061167),\n",
       " DecisionTreeClassifier(max_depth=3, max_features='auto', min_samples_split=20,\n",
       "                        random_state=1448413953),\n",
       " DecisionTreeClassifier(max_depth=3, max_features='auto', min_samples_split=20,\n",
       "                        random_state=1135837806),\n",
       " DecisionTreeClassifier(max_depth=3, max_features='auto', min_samples_split=20,\n",
       "                        random_state=1544681361),\n",
       " DecisionTreeClassifier(max_depth=3, max_features='auto', min_samples_split=20,\n",
       "                        random_state=1628343800),\n",
       " DecisionTreeClassifier(max_depth=3, max_features='auto', min_samples_split=20,\n",
       "                        random_state=1192844478),\n",
       " DecisionTreeClassifier(max_depth=3, max_features='auto', min_samples_split=20,\n",
       "                        random_state=266947307),\n",
       " DecisionTreeClassifier(max_depth=3, max_features='auto', min_samples_split=20,\n",
       "                        random_state=574117934),\n",
       " DecisionTreeClassifier(max_depth=3, max_features='auto', min_samples_split=20,\n",
       "                        random_state=224818949),\n",
       " DecisionTreeClassifier(max_depth=3, max_features='auto', min_samples_split=20,\n",
       "                        random_state=579048832),\n",
       " DecisionTreeClassifier(max_depth=3, max_features='auto', min_samples_split=20,\n",
       "                        random_state=1137282271),\n",
       " DecisionTreeClassifier(max_depth=3, max_features='auto', min_samples_split=20,\n",
       "                        random_state=889973652),\n",
       " DecisionTreeClassifier(max_depth=3, max_features='auto', min_samples_split=20,\n",
       "                        random_state=1899264854),\n",
       " DecisionTreeClassifier(max_depth=3, max_features='auto', min_samples_split=20,\n",
       "                        random_state=1757769775),\n",
       " DecisionTreeClassifier(max_depth=3, max_features='auto', min_samples_split=20,\n",
       "                        random_state=314306058),\n",
       " DecisionTreeClassifier(max_depth=3, max_features='auto', min_samples_split=20,\n",
       "                        random_state=266297454),\n",
       " DecisionTreeClassifier(max_depth=3, max_features='auto', min_samples_split=20,\n",
       "                        random_state=1460176776),\n",
       " DecisionTreeClassifier(max_depth=3, max_features='auto', min_samples_split=20,\n",
       "                        random_state=620770823),\n",
       " DecisionTreeClassifier(max_depth=3, max_features='auto', min_samples_split=20,\n",
       "                        random_state=52433411),\n",
       " DecisionTreeClassifier(max_depth=3, max_features='auto', min_samples_split=20,\n",
       "                        random_state=1625421524),\n",
       " DecisionTreeClassifier(max_depth=3, max_features='auto', min_samples_split=20,\n",
       "                        random_state=425374456),\n",
       " DecisionTreeClassifier(max_depth=3, max_features='auto', min_samples_split=20,\n",
       "                        random_state=1990014947),\n",
       " DecisionTreeClassifier(max_depth=3, max_features='auto', min_samples_split=20,\n",
       "                        random_state=2033800361),\n",
       " DecisionTreeClassifier(max_depth=3, max_features='auto', min_samples_split=20,\n",
       "                        random_state=1017194458),\n",
       " DecisionTreeClassifier(max_depth=3, max_features='auto', min_samples_split=20,\n",
       "                        random_state=1457608085),\n",
       " DecisionTreeClassifier(max_depth=3, max_features='auto', min_samples_split=20,\n",
       "                        random_state=315979647),\n",
       " DecisionTreeClassifier(max_depth=3, max_features='auto', min_samples_split=20,\n",
       "                        random_state=1612375048),\n",
       " DecisionTreeClassifier(max_depth=3, max_features='auto', min_samples_split=20,\n",
       "                        random_state=2146998187),\n",
       " DecisionTreeClassifier(max_depth=3, max_features='auto', min_samples_split=20,\n",
       "                        random_state=431541524),\n",
       " DecisionTreeClassifier(max_depth=3, max_features='auto', min_samples_split=20,\n",
       "                        random_state=1927384566),\n",
       " DecisionTreeClassifier(max_depth=3, max_features='auto', min_samples_split=20,\n",
       "                        random_state=73178858),\n",
       " DecisionTreeClassifier(max_depth=3, max_features='auto', min_samples_split=20,\n",
       "                        random_state=1024150641),\n",
       " DecisionTreeClassifier(max_depth=3, max_features='auto', min_samples_split=20,\n",
       "                        random_state=272411379),\n",
       " DecisionTreeClassifier(max_depth=3, max_features='auto', min_samples_split=20,\n",
       "                        random_state=1914015555),\n",
       " DecisionTreeClassifier(max_depth=3, max_features='auto', min_samples_split=20,\n",
       "                        random_state=2146781039),\n",
       " DecisionTreeClassifier(max_depth=3, max_features='auto', min_samples_split=20,\n",
       "                        random_state=186729235),\n",
       " DecisionTreeClassifier(max_depth=3, max_features='auto', min_samples_split=20,\n",
       "                        random_state=461957188),\n",
       " DecisionTreeClassifier(max_depth=3, max_features='auto', min_samples_split=20,\n",
       "                        random_state=1932756934),\n",
       " DecisionTreeClassifier(max_depth=3, max_features='auto', min_samples_split=20,\n",
       "                        random_state=481535982),\n",
       " DecisionTreeClassifier(max_depth=3, max_features='auto', min_samples_split=20,\n",
       "                        random_state=1309928700),\n",
       " DecisionTreeClassifier(max_depth=3, max_features='auto', min_samples_split=20,\n",
       "                        random_state=68856043),\n",
       " DecisionTreeClassifier(max_depth=3, max_features='auto', min_samples_split=20,\n",
       "                        random_state=1669971958),\n",
       " DecisionTreeClassifier(max_depth=3, max_features='auto', min_samples_split=20,\n",
       "                        random_state=54010306),\n",
       " DecisionTreeClassifier(max_depth=3, max_features='auto', min_samples_split=20,\n",
       "                        random_state=2024448142),\n",
       " DecisionTreeClassifier(max_depth=3, max_features='auto', min_samples_split=20,\n",
       "                        random_state=784962514),\n",
       " DecisionTreeClassifier(max_depth=3, max_features='auto', min_samples_split=20,\n",
       "                        random_state=1539434077),\n",
       " DecisionTreeClassifier(max_depth=3, max_features='auto', min_samples_split=20,\n",
       "                        random_state=2092281920),\n",
       " DecisionTreeClassifier(max_depth=3, max_features='auto', min_samples_split=20,\n",
       "                        random_state=1446529384),\n",
       " DecisionTreeClassifier(max_depth=3, max_features='auto', min_samples_split=20,\n",
       "                        random_state=1253190302),\n",
       " DecisionTreeClassifier(max_depth=3, max_features='auto', min_samples_split=20,\n",
       "                        random_state=186305473),\n",
       " DecisionTreeClassifier(max_depth=3, max_features='auto', min_samples_split=20,\n",
       "                        random_state=1972798398),\n",
       " DecisionTreeClassifier(max_depth=3, max_features='auto', min_samples_split=20,\n",
       "                        random_state=772025074),\n",
       " DecisionTreeClassifier(max_depth=3, max_features='auto', min_samples_split=20,\n",
       "                        random_state=1795206888),\n",
       " DecisionTreeClassifier(max_depth=3, max_features='auto', min_samples_split=20,\n",
       "                        random_state=771334752),\n",
       " DecisionTreeClassifier(max_depth=3, max_features='auto', min_samples_split=20,\n",
       "                        random_state=1536284166),\n",
       " DecisionTreeClassifier(max_depth=3, max_features='auto', min_samples_split=20,\n",
       "                        random_state=1538951443),\n",
       " DecisionTreeClassifier(max_depth=3, max_features='auto', min_samples_split=20,\n",
       "                        random_state=1308634477),\n",
       " DecisionTreeClassifier(max_depth=3, max_features='auto', min_samples_split=20,\n",
       "                        random_state=2008224702),\n",
       " DecisionTreeClassifier(max_depth=3, max_features='auto', min_samples_split=20,\n",
       "                        random_state=1953550028),\n",
       " DecisionTreeClassifier(max_depth=3, max_features='auto', min_samples_split=20,\n",
       "                        random_state=729266576),\n",
       " DecisionTreeClassifier(max_depth=3, max_features='auto', min_samples_split=20,\n",
       "                        random_state=594117217),\n",
       " DecisionTreeClassifier(max_depth=3, max_features='auto', min_samples_split=20,\n",
       "                        random_state=31351868),\n",
       " DecisionTreeClassifier(max_depth=3, max_features='auto', min_samples_split=20,\n",
       "                        random_state=1724316352),\n",
       " DecisionTreeClassifier(max_depth=3, max_features='auto', min_samples_split=20,\n",
       "                        random_state=6949761),\n",
       " DecisionTreeClassifier(max_depth=3, max_features='auto', min_samples_split=20,\n",
       "                        random_state=953717778),\n",
       " DecisionTreeClassifier(max_depth=3, max_features='auto', min_samples_split=20,\n",
       "                        random_state=1227234250),\n",
       " DecisionTreeClassifier(max_depth=3, max_features='auto', min_samples_split=20,\n",
       "                        random_state=272058700),\n",
       " DecisionTreeClassifier(max_depth=3, max_features='auto', min_samples_split=20,\n",
       "                        random_state=965631067),\n",
       " DecisionTreeClassifier(max_depth=3, max_features='auto', min_samples_split=20,\n",
       "                        random_state=1911536953),\n",
       " DecisionTreeClassifier(max_depth=3, max_features='auto', min_samples_split=20,\n",
       "                        random_state=465343874),\n",
       " DecisionTreeClassifier(max_depth=3, max_features='auto', min_samples_split=20,\n",
       "                        random_state=1216281790),\n",
       " DecisionTreeClassifier(max_depth=3, max_features='auto', min_samples_split=20,\n",
       "                        random_state=576830980),\n",
       " DecisionTreeClassifier(max_depth=3, max_features='auto', min_samples_split=20,\n",
       "                        random_state=2068893809),\n",
       " DecisionTreeClassifier(max_depth=3, max_features='auto', min_samples_split=20,\n",
       "                        random_state=583639362),\n",
       " DecisionTreeClassifier(max_depth=3, max_features='auto', min_samples_split=20,\n",
       "                        random_state=814453229),\n",
       " DecisionTreeClassifier(max_depth=3, max_features='auto', min_samples_split=20,\n",
       "                        random_state=1920982517),\n",
       " DecisionTreeClassifier(max_depth=3, max_features='auto', min_samples_split=20,\n",
       "                        random_state=1304087253),\n",
       " DecisionTreeClassifier(max_depth=3, max_features='auto', min_samples_split=20,\n",
       "                        random_state=1435324398)]"
      ]
     },
     "execution_count": 15,
     "metadata": {},
     "output_type": "execute_result"
    }
   ],
   "source": [
    "forest_new.estimators_"
   ]
  },
  {
   "cell_type": "code",
   "execution_count": 16,
   "id": "07230fbe",
   "metadata": {},
   "outputs": [
    {
     "data": {
      "text/plain": [
       "100"
      ]
     },
     "execution_count": 16,
     "metadata": {},
     "output_type": "execute_result"
    }
   ],
   "source": [
    "len (forest_new.estimators_)"
   ]
  },
  {
   "cell_type": "code",
   "execution_count": 17,
   "id": "74e56e56",
   "metadata": {},
   "outputs": [
    {
     "data": {
      "text/plain": [
       "[Text(313.875, 475.65000000000003, 'X[0] <= 0.006\\ngini = 0.379\\nsamples = 301\\nvalue = [122, 358]'),\n",
       " Text(209.25, 339.75, 'gini = 0.0\\nsamples = 1\\nvalue = [2, 0]'),\n",
       " Text(418.5, 339.75, 'X[0] <= 0.198\\ngini = 0.376\\nsamples = 300\\nvalue = [120, 358]'),\n",
       " Text(209.25, 203.85000000000002, 'X[0] <= 0.07\\ngini = 0.254\\nsamples = 57\\nvalue = [13, 74]'),\n",
       " Text(104.625, 67.94999999999999, 'gini = 0.397\\nsamples = 22\\nvalue = [9, 24]'),\n",
       " Text(313.875, 67.94999999999999, 'gini = 0.137\\nsamples = 35\\nvalue = [4, 50]'),\n",
       " Text(627.75, 203.85000000000002, 'X[1] <= 0.817\\ngini = 0.398\\nsamples = 243\\nvalue = [107, 284]'),\n",
       " Text(523.125, 67.94999999999999, 'gini = 0.425\\nsamples = 190\\nvalue = [94, 213]'),\n",
       " Text(732.375, 67.94999999999999, 'gini = 0.262\\nsamples = 53\\nvalue = [13, 71]')]"
      ]
     },
     "execution_count": 17,
     "metadata": {},
     "output_type": "execute_result"
    },
    {
     "data": {
      "image/png": "[encoded data removed]",
      "text/plain": [
       "<Figure size 1080x720 with 1 Axes>"
      ]
     },
     "metadata": {
      "needs_background": "light"
     },
     "output_type": "display_data"
    }
   ],
   "source": [
    "plt.figure (figsize = (15,10))\n",
    "tree.plot_tree (forest_new.estimators_[1], filled = True)"
   ]
  },
  {
   "cell_type": "code",
   "execution_count": 18,
   "id": "ce2333e6",
   "metadata": {},
   "outputs": [
    {
     "name": "stdout",
     "output_type": "stream",
     "text": [
      "Train accuracy: 0.79375\n",
      "Test accuracy: 0.7916666666666666\n"
     ]
    }
   ],
   "source": [
    "print('Train accuracy: {}'.format(forest_new.score(Xtrain, ytrain)))\n",
    "print('Test accuracy: {}'.format(forest_new.score(Xtest, ytest)))"
   ]
  },
  {
   "cell_type": "code",
   "execution_count": null,
   "id": "567ae654",
   "metadata": {},
   "outputs": [],
   "source": []
  }
 ],
 "metadata": {
  "kernelspec": {
   "display_name": "Python 3",
   "language": "python",
   "name": "python3"
  },
  "language_info": {
   "codemirror_mode": {
    "name": "ipython",
    "version": 3
   },
   "file_extension": ".py",
   "mimetype": "text/x-python",
   "name": "python",
   "nbconvert_exporter": "python",
   "pygments_lexer": "ipython3",
   "version": "3.8.8"
  }
 },
 "nbformat": 4,
 "nbformat_minor": 5
}
