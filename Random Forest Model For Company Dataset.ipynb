{
 "cells": [
  {
   "cell_type": "code",
   "execution_count": 2,
   "id": "85e9cefb",
   "metadata": {},
   "outputs": [],
   "source": [
    "import pandas as pd\n",
    "import numpy as np\n",
    "import matplotlib.pyplot as plt"
   ]
  },
  {
   "cell_type": "code",
   "execution_count": 3,
   "id": "889737cc",
   "metadata": {},
   "outputs": [
    {
     "data": {
      "text/html": [
       "<div>\n",
       "<style scoped>\n",
       "    .dataframe tbody tr th:only-of-type {\n",
       "        vertical-align: middle;\n",
       "    }\n",
       "\n",
       "    .dataframe tbody tr th {\n",
       "        vertical-align: top;\n",
       "    }\n",
       "\n",
       "    .dataframe thead th {\n",
       "        text-align: right;\n",
       "    }\n",
       "</style>\n",
       "<table border=\"1\" class=\"dataframe\">\n",
       "  <thead>\n",
       "    <tr style=\"text-align: right;\">\n",
       "      <th></th>\n",
       "      <th>Sales</th>\n",
       "      <th>CompPrice</th>\n",
       "      <th>Income</th>\n",
       "      <th>Advertising</th>\n",
       "      <th>Population</th>\n",
       "      <th>Price</th>\n",
       "      <th>ShelveLoc</th>\n",
       "      <th>Age</th>\n",
       "      <th>Education</th>\n",
       "      <th>Urban</th>\n",
       "      <th>US</th>\n",
       "    </tr>\n",
       "  </thead>\n",
       "  <tbody>\n",
       "    <tr>\n",
       "      <th>0</th>\n",
       "      <td>9.50</td>\n",
       "      <td>138</td>\n",
       "      <td>73</td>\n",
       "      <td>11</td>\n",
       "      <td>276</td>\n",
       "      <td>120</td>\n",
       "      <td>Bad</td>\n",
       "      <td>42</td>\n",
       "      <td>17</td>\n",
       "      <td>Yes</td>\n",
       "      <td>Yes</td>\n",
       "    </tr>\n",
       "    <tr>\n",
       "      <th>1</th>\n",
       "      <td>11.22</td>\n",
       "      <td>111</td>\n",
       "      <td>48</td>\n",
       "      <td>16</td>\n",
       "      <td>260</td>\n",
       "      <td>83</td>\n",
       "      <td>Good</td>\n",
       "      <td>65</td>\n",
       "      <td>10</td>\n",
       "      <td>Yes</td>\n",
       "      <td>Yes</td>\n",
       "    </tr>\n",
       "    <tr>\n",
       "      <th>2</th>\n",
       "      <td>10.06</td>\n",
       "      <td>113</td>\n",
       "      <td>35</td>\n",
       "      <td>10</td>\n",
       "      <td>269</td>\n",
       "      <td>80</td>\n",
       "      <td>Medium</td>\n",
       "      <td>59</td>\n",
       "      <td>12</td>\n",
       "      <td>Yes</td>\n",
       "      <td>Yes</td>\n",
       "    </tr>\n",
       "    <tr>\n",
       "      <th>3</th>\n",
       "      <td>7.40</td>\n",
       "      <td>117</td>\n",
       "      <td>100</td>\n",
       "      <td>4</td>\n",
       "      <td>466</td>\n",
       "      <td>97</td>\n",
       "      <td>Medium</td>\n",
       "      <td>55</td>\n",
       "      <td>14</td>\n",
       "      <td>Yes</td>\n",
       "      <td>Yes</td>\n",
       "    </tr>\n",
       "    <tr>\n",
       "      <th>4</th>\n",
       "      <td>4.15</td>\n",
       "      <td>141</td>\n",
       "      <td>64</td>\n",
       "      <td>3</td>\n",
       "      <td>340</td>\n",
       "      <td>128</td>\n",
       "      <td>Bad</td>\n",
       "      <td>38</td>\n",
       "      <td>13</td>\n",
       "      <td>Yes</td>\n",
       "      <td>No</td>\n",
       "    </tr>\n",
       "  </tbody>\n",
       "</table>\n",
       "</div>"
      ],
      "text/plain": [
       "   Sales  CompPrice  Income  Advertising  Population  Price ShelveLoc  Age  \\\n",
       "0   9.50        138      73           11         276    120       Bad   42   \n",
       "1  11.22        111      48           16         260     83      Good   65   \n",
       "2  10.06        113      35           10         269     80    Medium   59   \n",
       "3   7.40        117     100            4         466     97    Medium   55   \n",
       "4   4.15        141      64            3         340    128       Bad   38   \n",
       "\n",
       "   Education Urban   US  \n",
       "0         17   Yes  Yes  \n",
       "1         10   Yes  Yes  \n",
       "2         12   Yes  Yes  \n",
       "3         14   Yes  Yes  \n",
       "4         13   Yes   No  "
      ]
     },
     "execution_count": 3,
     "metadata": {},
     "output_type": "execute_result"
    }
   ],
   "source": [
    "company = pd.read_csv(\"Company_Data.csv\")\n",
    "company.head()"
   ]
  },
  {
   "cell_type": "code",
   "execution_count": 4,
   "id": "5ba3301c",
   "metadata": {},
   "outputs": [
    {
     "data": {
      "text/plain": [
       "array([ 9.5 , 11.22, 10.06,  7.4 ,  4.15, 10.81,  6.63, 11.85,  6.54,\n",
       "        4.69,  9.01, 11.96,  3.98, 10.96, 11.17,  8.71,  7.58, 12.29,\n",
       "       13.91,  8.73,  6.41, 12.13,  5.08,  5.87, 10.14, 14.9 ,  8.33,\n",
       "        5.27,  2.99,  7.81, 13.55,  8.25,  6.2 ,  8.77,  2.67, 11.07,\n",
       "        8.89,  4.95,  6.59,  3.24,  2.07,  7.96, 10.43,  4.12,  4.16,\n",
       "        4.56, 12.44,  4.38,  3.91, 10.61,  1.42,  4.42,  7.91,  6.92,\n",
       "        4.9 ,  6.85, 11.91,  0.91,  5.42,  5.21,  8.32,  7.32,  1.82,\n",
       "        8.47,  7.8 ,  8.85, 13.39,  7.99,  9.46,  6.5 ,  5.52, 12.61,\n",
       "        8.55, 10.64,  7.7 ,  4.43,  9.14,  8.01,  7.52, 11.62,  2.23,\n",
       "        8.7 , 11.7 ,  6.56,  7.95,  5.33,  4.81,  4.53,  8.86,  8.39,\n",
       "        5.58,  9.48,  7.45, 12.49,  4.88,  4.11,  5.3 ,  5.07,  4.62,\n",
       "        5.55,  0.16,  3.47,  8.98,  9.  ,  6.62,  6.67,  6.01,  9.31,\n",
       "        8.54,  8.8 ,  7.57,  7.37,  6.87, 11.67,  6.88,  8.19,  8.87,\n",
       "        9.34, 11.27,  6.52,  4.96,  4.47,  8.41,  9.54,  7.62,  3.67,\n",
       "        6.44,  5.17, 10.27, 12.3 ,  6.03,  6.53,  7.44,  0.53,  9.09,\n",
       "        3.9 , 10.51,  7.56, 11.48, 10.49, 10.77,  7.64,  5.93,  6.89,\n",
       "        7.71,  7.49, 10.21, 12.53,  9.32,  4.67,  2.93,  3.63,  5.68,\n",
       "        8.22,  0.37,  6.71,  7.3 ,  9.03,  6.38,  0.  ,  7.54,  5.61,\n",
       "       10.48, 10.66,  7.78,  4.94,  7.43,  4.74,  5.32,  9.95, 10.07,\n",
       "        8.68,  8.07, 12.11,  8.79, 13.28,  7.23,  4.19,  4.1 ,  2.52,\n",
       "        3.62,  6.42,  5.56,  5.94,  2.05,  8.74,  4.97,  3.02,  4.36,\n",
       "        9.39, 12.04,  8.23,  4.83,  2.34,  5.73,  4.34,  9.7 , 10.62,\n",
       "       10.59,  6.43,  3.45,  6.68,  8.69,  5.4 , 11.19,  5.16,  8.09,\n",
       "       13.14,  8.65,  9.43,  5.53,  9.62,  7.36,  3.89, 10.31, 12.01,\n",
       "        4.68,  7.82,  8.78, 10.  ,  6.9 ,  5.04,  5.36,  5.05,  9.16,\n",
       "        3.72,  8.31,  5.64,  9.58,  4.2 ,  8.67,  5.12,  7.67,  5.71,\n",
       "        6.37,  7.77,  6.95,  5.31,  9.1 ,  5.83,  5.01, 11.99,  4.55,\n",
       "       12.98, 10.04,  7.22,  6.93,  3.42,  2.86,  7.74,  6.97,  7.6 ,\n",
       "        7.53,  6.98,  8.75,  9.49,  6.64, 11.82, 11.28, 12.66,  4.21,\n",
       "        8.21,  3.07, 10.98,  9.4 ,  8.57,  7.41,  5.28, 10.01, 11.93,\n",
       "        8.03,  4.78,  5.9 ,  9.24, 11.18,  9.53,  6.15,  6.8 ,  9.33,\n",
       "        7.72,  6.39, 15.63, 10.08,  5.86, 10.36,  2.66,  6.23,  3.15,\n",
       "        4.99, 10.1 ,  5.74,  7.63,  6.18,  8.61,  5.97, 11.54,  7.5 ,\n",
       "        7.38,  5.99,  8.43,  8.97, 12.57,  8.64, 10.44, 13.44,  9.45,\n",
       "        7.02,  3.58, 13.36,  4.17,  3.13,  5.25, 10.26, 10.5 ,  5.98,\n",
       "       14.37, 10.71,  7.68,  9.08,  9.44,  7.9 , 16.27,  6.81,  6.11,\n",
       "        5.81,  9.64,  9.35, 12.85,  8.14,  8.44,  5.47,  6.1 ,  5.57,\n",
       "        5.35,  6.14,  9.71])"
      ]
     },
     "execution_count": 4,
     "metadata": {},
     "output_type": "execute_result"
    }
   ],
   "source": [
    "#Looking into unique value \n",
    "company[\"Sales\"].unique()"
   ]
  },
  {
   "cell_type": "code",
   "execution_count": 5,
   "id": "964205e5",
   "metadata": {},
   "outputs": [
    {
     "data": {
      "text/plain": [
       "7.80    4\n",
       "6.20    3\n",
       "6.67    3\n",
       "8.77    3\n",
       "6.88    3\n",
       "       ..\n",
       "7.50    1\n",
       "8.89    1\n",
       "7.58    1\n",
       "5.64    1\n",
       "8.14    1\n",
       "Name: Sales, Length: 336, dtype: int64"
      ]
     },
     "execution_count": 5,
     "metadata": {},
     "output_type": "execute_result"
    }
   ],
   "source": [
    "#Preforming how many times each number is repeated\n",
    "company[\"Sales\"].value_counts()"
   ]
  },
  {
   "cell_type": "code",
   "execution_count": 6,
   "id": "29f77c4a",
   "metadata": {},
   "outputs": [
    {
     "data": {
      "text/plain": [
       "7.49"
      ]
     },
     "execution_count": 6,
     "metadata": {},
     "output_type": "execute_result"
    }
   ],
   "source": [
    "#Looking into median to check the median-- middle value, which can help us in Stratified sampling\n",
    "np.median(company[\"Sales\"])"
   ]
  },
  {
   "cell_type": "code",
   "execution_count": 7,
   "id": "27fc06aa",
   "metadata": {},
   "outputs": [],
   "source": [
    "company[\"sales\"]=\"<=7.49\"\n",
    "company.loc[company[\"Sales\"]>=7.49,\"sales\"]=\">=7.49\""
   ]
  },
  {
   "cell_type": "code",
   "execution_count": 8,
   "id": "f07f4d8b",
   "metadata": {},
   "outputs": [],
   "source": [
    "company.drop([\"Sales\"],axis=1,inplace=True)"
   ]
  },
  {
   "cell_type": "code",
   "execution_count": 9,
   "id": "d2c2eda6",
   "metadata": {},
   "outputs": [],
   "source": [
    "#Encoding the data as model.fit doesnt convert string data to float\n",
    "from sklearn import preprocessing\n",
    "le = preprocessing.LabelEncoder()\n",
    "for column_names in company.columns:\n",
    "    if company[column_names].dtype == object:\n",
    "        company[column_names]= le.fit_transform(company[column_names])\n",
    "    else:\n",
    "        pass"
   ]
  },
  {
   "cell_type": "code",
   "execution_count": 10,
   "id": "c1854dce",
   "metadata": {
    "scrolled": true
   },
   "outputs": [
    {
     "data": {
      "text/html": [
       "<div>\n",
       "<style scoped>\n",
       "    .dataframe tbody tr th:only-of-type {\n",
       "        vertical-align: middle;\n",
       "    }\n",
       "\n",
       "    .dataframe tbody tr th {\n",
       "        vertical-align: top;\n",
       "    }\n",
       "\n",
       "    .dataframe thead th {\n",
       "        text-align: right;\n",
       "    }\n",
       "</style>\n",
       "<table border=\"1\" class=\"dataframe\">\n",
       "  <thead>\n",
       "    <tr style=\"text-align: right;\">\n",
       "      <th></th>\n",
       "      <th>CompPrice</th>\n",
       "      <th>Income</th>\n",
       "      <th>Advertising</th>\n",
       "      <th>Population</th>\n",
       "      <th>Price</th>\n",
       "      <th>ShelveLoc</th>\n",
       "      <th>Age</th>\n",
       "      <th>Education</th>\n",
       "      <th>Urban</th>\n",
       "      <th>US</th>\n",
       "      <th>sales</th>\n",
       "    </tr>\n",
       "  </thead>\n",
       "  <tbody>\n",
       "    <tr>\n",
       "      <th>0</th>\n",
       "      <td>138</td>\n",
       "      <td>73</td>\n",
       "      <td>11</td>\n",
       "      <td>276</td>\n",
       "      <td>120</td>\n",
       "      <td>0</td>\n",
       "      <td>42</td>\n",
       "      <td>17</td>\n",
       "      <td>1</td>\n",
       "      <td>1</td>\n",
       "      <td>1</td>\n",
       "    </tr>\n",
       "    <tr>\n",
       "      <th>1</th>\n",
       "      <td>111</td>\n",
       "      <td>48</td>\n",
       "      <td>16</td>\n",
       "      <td>260</td>\n",
       "      <td>83</td>\n",
       "      <td>1</td>\n",
       "      <td>65</td>\n",
       "      <td>10</td>\n",
       "      <td>1</td>\n",
       "      <td>1</td>\n",
       "      <td>1</td>\n",
       "    </tr>\n",
       "    <tr>\n",
       "      <th>2</th>\n",
       "      <td>113</td>\n",
       "      <td>35</td>\n",
       "      <td>10</td>\n",
       "      <td>269</td>\n",
       "      <td>80</td>\n",
       "      <td>2</td>\n",
       "      <td>59</td>\n",
       "      <td>12</td>\n",
       "      <td>1</td>\n",
       "      <td>1</td>\n",
       "      <td>1</td>\n",
       "    </tr>\n",
       "    <tr>\n",
       "      <th>3</th>\n",
       "      <td>117</td>\n",
       "      <td>100</td>\n",
       "      <td>4</td>\n",
       "      <td>466</td>\n",
       "      <td>97</td>\n",
       "      <td>2</td>\n",
       "      <td>55</td>\n",
       "      <td>14</td>\n",
       "      <td>1</td>\n",
       "      <td>1</td>\n",
       "      <td>0</td>\n",
       "    </tr>\n",
       "    <tr>\n",
       "      <th>4</th>\n",
       "      <td>141</td>\n",
       "      <td>64</td>\n",
       "      <td>3</td>\n",
       "      <td>340</td>\n",
       "      <td>128</td>\n",
       "      <td>0</td>\n",
       "      <td>38</td>\n",
       "      <td>13</td>\n",
       "      <td>1</td>\n",
       "      <td>0</td>\n",
       "      <td>0</td>\n",
       "    </tr>\n",
       "  </tbody>\n",
       "</table>\n",
       "</div>"
      ],
      "text/plain": [
       "   CompPrice  Income  Advertising  Population  Price  ShelveLoc  Age  \\\n",
       "0        138      73           11         276    120          0   42   \n",
       "1        111      48           16         260     83          1   65   \n",
       "2        113      35           10         269     80          2   59   \n",
       "3        117     100            4         466     97          2   55   \n",
       "4        141      64            3         340    128          0   38   \n",
       "\n",
       "   Education  Urban  US  sales  \n",
       "0         17      1   1      1  \n",
       "1         10      1   1      1  \n",
       "2         12      1   1      1  \n",
       "3         14      1   1      0  \n",
       "4         13      1   0      0  "
      ]
     },
     "execution_count": 10,
     "metadata": {},
     "output_type": "execute_result"
    }
   ],
   "source": [
    "company.head()"
   ]
  },
  {
   "cell_type": "code",
   "execution_count": 12,
   "id": "c364551a",
   "metadata": {},
   "outputs": [
    {
     "data": {
      "text/plain": [
       "<AxesSubplot:xlabel='Advertising'>"
      ]
     },
     "execution_count": 12,
     "metadata": {},
     "output_type": "execute_result"
    },
    {
     "data": {
      "image/png": "[encoded data removed]",
      "text/plain": [
       "<Figure size 432x288 with 1 Axes>"
      ]
     },
     "metadata": {
      "needs_background": "light"
     },
     "output_type": "display_data"
    }
   ],
   "source": [
    "company.groupby('Advertising').sales.mean().plot(kind='bar')"
   ]
  },
  {
   "cell_type": "code",
   "execution_count": 15,
   "id": "515893ef",
   "metadata": {},
   "outputs": [
    {
     "data": {
      "text/plain": [
       "<AxesSubplot:xlabel='ShelveLoc'>"
      ]
     },
     "execution_count": 15,
     "metadata": {},
     "output_type": "execute_result"
    },
    {
     "data": {
      "image/png": "[encoded data removed]",
      "text/plain": [
       "<Figure size 432x288 with 1 Axes>"
      ]
     },
     "metadata": {
      "needs_background": "light"
     },
     "output_type": "display_data"
    }
   ],
   "source": [
    "company.groupby('ShelveLoc').sales.mean().plot(kind='bar')"
   ]
  },
  {
   "cell_type": "code",
   "execution_count": 16,
   "id": "7c42bf0d",
   "metadata": {},
   "outputs": [
    {
     "data": {
      "text/plain": [
       "<AxesSubplot:xlabel='Education'>"
      ]
     },
     "execution_count": 16,
     "metadata": {},
     "output_type": "execute_result"
    },
    {
     "data": {
      "image/png": "[encoded data removed]",
      "text/plain": [
       "<Figure size 432x288 with 1 Axes>"
      ]
     },
     "metadata": {
      "needs_background": "light"
     },
     "output_type": "display_data"
    }
   ],
   "source": [
    "company.groupby('Education').sales.mean().plot(kind='bar')"
   ]
  },
  {
   "cell_type": "code",
   "execution_count": 17,
   "id": "1ddbc424",
   "metadata": {
    "scrolled": true
   },
   "outputs": [
    {
     "data": {
      "text/plain": [
       "<AxesSubplot:xlabel='Urban'>"
      ]
     },
     "execution_count": 17,
     "metadata": {},
     "output_type": "execute_result"
    },
    {
     "data": {
      "image/png": "[encoded data removed]",
      "text/plain": [
       "<Figure size 432x288 with 1 Axes>"
      ]
     },
     "metadata": {
      "needs_background": "light"
     },
     "output_type": "display_data"
    }
   ],
   "source": [
    "company.groupby('Urban').sales.mean().plot(kind='bar')"
   ]
  },
  {
   "cell_type": "code",
   "execution_count": 18,
   "id": "3e282c94",
   "metadata": {},
   "outputs": [
    {
     "data": {
      "text/plain": [
       "<AxesSubplot:xlabel='US'>"
      ]
     },
     "execution_count": 18,
     "metadata": {},
     "output_type": "execute_result"
    },
    {
     "data": {
      "image/png": "[encoded data removed]",
      "text/plain": [
       "<Figure size 432x288 with 1 Axes>"
      ]
     },
     "metadata": {
      "needs_background": "light"
     },
     "output_type": "display_data"
    }
   ],
   "source": [
    "company.groupby('US').sales.mean().plot(kind='bar')"
   ]
  },
  {
   "cell_type": "code",
   "execution_count": 9,
   "id": "e4d5365d",
   "metadata": {},
   "outputs": [],
   "source": [
    "#Splitting the data into input and output\n",
    "featues = company.iloc[:,0:10]\n",
    "labels = company.iloc[:,10]"
   ]
  },
  {
   "cell_type": "code",
   "execution_count": 10,
   "id": "fb9c401c",
   "metadata": {},
   "outputs": [],
   "source": [
    "#Splitting the data into train and test by using stratify sampling\n",
    "from sklearn.model_selection import train_test_split"
   ]
  },
  {
   "cell_type": "code",
   "execution_count": 11,
   "id": "8f2c2c92",
   "metadata": {},
   "outputs": [],
   "source": [
    "x_train,x_test,y_train,y_test = train_test_split(featues,labels,test_size = 0.3,stratify = labels) "
   ]
  },
  {
   "cell_type": "code",
   "execution_count": 12,
   "id": "8d2283a4",
   "metadata": {},
   "outputs": [
    {
     "data": {
      "text/plain": [
       "1    141\n",
       "0    139\n",
       "Name: sales, dtype: int64"
      ]
     },
     "execution_count": 12,
     "metadata": {},
     "output_type": "execute_result"
    }
   ],
   "source": [
    "#Looking into the class variable split\n",
    "y_train.value_counts()"
   ]
  },
  {
   "cell_type": "code",
   "execution_count": 13,
   "id": "6d8b95c5",
   "metadata": {},
   "outputs": [
    {
     "data": {
      "text/plain": [
       "0    60\n",
       "1    60\n",
       "Name: sales, dtype: int64"
      ]
     },
     "execution_count": 13,
     "metadata": {},
     "output_type": "execute_result"
    }
   ],
   "source": [
    "y_test.value_counts()"
   ]
  },
  {
   "cell_type": "code",
   "execution_count": 14,
   "id": "0056b095",
   "metadata": {},
   "outputs": [],
   "source": [
    "#Building the model\n",
    "from sklearn import tree\n",
    "from sklearn.ensemble import RandomForestClassifier as RF"
   ]
  },
  {
   "cell_type": "code",
   "execution_count": 15,
   "id": "88585b24",
   "metadata": {},
   "outputs": [
    {
     "data": {
      "text/plain": [
       "0.7607142857142857"
      ]
     },
     "execution_count": 15,
     "metadata": {},
     "output_type": "execute_result"
    }
   ],
   "source": [
    "model =RF(n_jobs=4,n_estimators = 150, oob_score =True,criterion ='entropy', max_depth=4) \n",
    "model.fit(x_train,y_train)\n",
    "model.oob_score_"
   ]
  },
  {
   "cell_type": "code",
   "execution_count": 16,
   "id": "8168f04d",
   "metadata": {},
   "outputs": [
    {
     "data": {
      "text/plain": [
       "[DecisionTreeClassifier(criterion='entropy', max_depth=4, max_features='auto',\n",
       "                        random_state=20962668),\n",
       " DecisionTreeClassifier(criterion='entropy', max_depth=4, max_features='auto',\n",
       "                        random_state=1786965305),\n",
       " DecisionTreeClassifier(criterion='entropy', max_depth=4, max_features='auto',\n",
       "                        random_state=1303417162),\n",
       " DecisionTreeClassifier(criterion='entropy', max_depth=4, max_features='auto',\n",
       "                        random_state=1458011224),\n",
       " DecisionTreeClassifier(criterion='entropy', max_depth=4, max_features='auto',\n",
       "                        random_state=1745746874),\n",
       " DecisionTreeClassifier(criterion='entropy', max_depth=4, max_features='auto',\n",
       "                        random_state=49212664),\n",
       " DecisionTreeClassifier(criterion='entropy', max_depth=4, max_features='auto',\n",
       "                        random_state=1169836078),\n",
       " DecisionTreeClassifier(criterion='entropy', max_depth=4, max_features='auto',\n",
       "                        random_state=153043209),\n",
       " DecisionTreeClassifier(criterion='entropy', max_depth=4, max_features='auto',\n",
       "                        random_state=1927120448),\n",
       " DecisionTreeClassifier(criterion='entropy', max_depth=4, max_features='auto',\n",
       "                        random_state=613441903),\n",
       " DecisionTreeClassifier(criterion='entropy', max_depth=4, max_features='auto',\n",
       "                        random_state=2021665152),\n",
       " DecisionTreeClassifier(criterion='entropy', max_depth=4, max_features='auto',\n",
       "                        random_state=197909608),\n",
       " DecisionTreeClassifier(criterion='entropy', max_depth=4, max_features='auto',\n",
       "                        random_state=489775383),\n",
       " DecisionTreeClassifier(criterion='entropy', max_depth=4, max_features='auto',\n",
       "                        random_state=794614973),\n",
       " DecisionTreeClassifier(criterion='entropy', max_depth=4, max_features='auto',\n",
       "                        random_state=1382610714),\n",
       " DecisionTreeClassifier(criterion='entropy', max_depth=4, max_features='auto',\n",
       "                        random_state=1974089693),\n",
       " DecisionTreeClassifier(criterion='entropy', max_depth=4, max_features='auto',\n",
       "                        random_state=663635144),\n",
       " DecisionTreeClassifier(criterion='entropy', max_depth=4, max_features='auto',\n",
       "                        random_state=491022671),\n",
       " DecisionTreeClassifier(criterion='entropy', max_depth=4, max_features='auto',\n",
       "                        random_state=459189691),\n",
       " DecisionTreeClassifier(criterion='entropy', max_depth=4, max_features='auto',\n",
       "                        random_state=469969761),\n",
       " DecisionTreeClassifier(criterion='entropy', max_depth=4, max_features='auto',\n",
       "                        random_state=1631882329),\n",
       " DecisionTreeClassifier(criterion='entropy', max_depth=4, max_features='auto',\n",
       "                        random_state=1910126186),\n",
       " DecisionTreeClassifier(criterion='entropy', max_depth=4, max_features='auto',\n",
       "                        random_state=1543032898),\n",
       " DecisionTreeClassifier(criterion='entropy', max_depth=4, max_features='auto',\n",
       "                        random_state=161600313),\n",
       " DecisionTreeClassifier(criterion='entropy', max_depth=4, max_features='auto',\n",
       "                        random_state=395230954),\n",
       " DecisionTreeClassifier(criterion='entropy', max_depth=4, max_features='auto',\n",
       "                        random_state=882575340),\n",
       " DecisionTreeClassifier(criterion='entropy', max_depth=4, max_features='auto',\n",
       "                        random_state=1661283696),\n",
       " DecisionTreeClassifier(criterion='entropy', max_depth=4, max_features='auto',\n",
       "                        random_state=1102838379),\n",
       " DecisionTreeClassifier(criterion='entropy', max_depth=4, max_features='auto',\n",
       "                        random_state=1407795664),\n",
       " DecisionTreeClassifier(criterion='entropy', max_depth=4, max_features='auto',\n",
       "                        random_state=1458903808),\n",
       " DecisionTreeClassifier(criterion='entropy', max_depth=4, max_features='auto',\n",
       "                        random_state=1596279924),\n",
       " DecisionTreeClassifier(criterion='entropy', max_depth=4, max_features='auto',\n",
       "                        random_state=2066714218),\n",
       " DecisionTreeClassifier(criterion='entropy', max_depth=4, max_features='auto',\n",
       "                        random_state=1721141657),\n",
       " DecisionTreeClassifier(criterion='entropy', max_depth=4, max_features='auto',\n",
       "                        random_state=825780651),\n",
       " DecisionTreeClassifier(criterion='entropy', max_depth=4, max_features='auto',\n",
       "                        random_state=1497447271),\n",
       " DecisionTreeClassifier(criterion='entropy', max_depth=4, max_features='auto',\n",
       "                        random_state=335782398),\n",
       " DecisionTreeClassifier(criterion='entropy', max_depth=4, max_features='auto',\n",
       "                        random_state=967211385),\n",
       " DecisionTreeClassifier(criterion='entropy', max_depth=4, max_features='auto',\n",
       "                        random_state=1497541666),\n",
       " DecisionTreeClassifier(criterion='entropy', max_depth=4, max_features='auto',\n",
       "                        random_state=1772682772),\n",
       " DecisionTreeClassifier(criterion='entropy', max_depth=4, max_features='auto',\n",
       "                        random_state=1976414422),\n",
       " DecisionTreeClassifier(criterion='entropy', max_depth=4, max_features='auto',\n",
       "                        random_state=1828408477),\n",
       " DecisionTreeClassifier(criterion='entropy', max_depth=4, max_features='auto',\n",
       "                        random_state=628266828),\n",
       " DecisionTreeClassifier(criterion='entropy', max_depth=4, max_features='auto',\n",
       "                        random_state=2077480663),\n",
       " DecisionTreeClassifier(criterion='entropy', max_depth=4, max_features='auto',\n",
       "                        random_state=1564899177),\n",
       " DecisionTreeClassifier(criterion='entropy', max_depth=4, max_features='auto',\n",
       "                        random_state=1978793881),\n",
       " DecisionTreeClassifier(criterion='entropy', max_depth=4, max_features='auto',\n",
       "                        random_state=1189763606),\n",
       " DecisionTreeClassifier(criterion='entropy', max_depth=4, max_features='auto',\n",
       "                        random_state=2028358329),\n",
       " DecisionTreeClassifier(criterion='entropy', max_depth=4, max_features='auto',\n",
       "                        random_state=1495313373),\n",
       " DecisionTreeClassifier(criterion='entropy', max_depth=4, max_features='auto',\n",
       "                        random_state=1944822184),\n",
       " DecisionTreeClassifier(criterion='entropy', max_depth=4, max_features='auto',\n",
       "                        random_state=898084686),\n",
       " DecisionTreeClassifier(criterion='entropy', max_depth=4, max_features='auto',\n",
       "                        random_state=484184107),\n",
       " DecisionTreeClassifier(criterion='entropy', max_depth=4, max_features='auto',\n",
       "                        random_state=1945879596),\n",
       " DecisionTreeClassifier(criterion='entropy', max_depth=4, max_features='auto',\n",
       "                        random_state=268122657),\n",
       " DecisionTreeClassifier(criterion='entropy', max_depth=4, max_features='auto',\n",
       "                        random_state=642515633),\n",
       " DecisionTreeClassifier(criterion='entropy', max_depth=4, max_features='auto',\n",
       "                        random_state=1024765991),\n",
       " DecisionTreeClassifier(criterion='entropy', max_depth=4, max_features='auto',\n",
       "                        random_state=1127317087),\n",
       " DecisionTreeClassifier(criterion='entropy', max_depth=4, max_features='auto',\n",
       "                        random_state=622787705),\n",
       " DecisionTreeClassifier(criterion='entropy', max_depth=4, max_features='auto',\n",
       "                        random_state=1198057213),\n",
       " DecisionTreeClassifier(criterion='entropy', max_depth=4, max_features='auto',\n",
       "                        random_state=154046111),\n",
       " DecisionTreeClassifier(criterion='entropy', max_depth=4, max_features='auto',\n",
       "                        random_state=750968883),\n",
       " DecisionTreeClassifier(criterion='entropy', max_depth=4, max_features='auto',\n",
       "                        random_state=1593762219),\n",
       " DecisionTreeClassifier(criterion='entropy', max_depth=4, max_features='auto',\n",
       "                        random_state=694666377),\n",
       " DecisionTreeClassifier(criterion='entropy', max_depth=4, max_features='auto',\n",
       "                        random_state=2126662329),\n",
       " DecisionTreeClassifier(criterion='entropy', max_depth=4, max_features='auto',\n",
       "                        random_state=1872193908),\n",
       " DecisionTreeClassifier(criterion='entropy', max_depth=4, max_features='auto',\n",
       "                        random_state=1696437683),\n",
       " DecisionTreeClassifier(criterion='entropy', max_depth=4, max_features='auto',\n",
       "                        random_state=189077127),\n",
       " DecisionTreeClassifier(criterion='entropy', max_depth=4, max_features='auto',\n",
       "                        random_state=112662027),\n",
       " DecisionTreeClassifier(criterion='entropy', max_depth=4, max_features='auto',\n",
       "                        random_state=752525039),\n",
       " DecisionTreeClassifier(criterion='entropy', max_depth=4, max_features='auto',\n",
       "                        random_state=1736873616),\n",
       " DecisionTreeClassifier(criterion='entropy', max_depth=4, max_features='auto',\n",
       "                        random_state=997727578),\n",
       " DecisionTreeClassifier(criterion='entropy', max_depth=4, max_features='auto',\n",
       "                        random_state=1563257989),\n",
       " DecisionTreeClassifier(criterion='entropy', max_depth=4, max_features='auto',\n",
       "                        random_state=399606640),\n",
       " DecisionTreeClassifier(criterion='entropy', max_depth=4, max_features='auto',\n",
       "                        random_state=1957298065),\n",
       " DecisionTreeClassifier(criterion='entropy', max_depth=4, max_features='auto',\n",
       "                        random_state=1459770688),\n",
       " DecisionTreeClassifier(criterion='entropy', max_depth=4, max_features='auto',\n",
       "                        random_state=212539161),\n",
       " DecisionTreeClassifier(criterion='entropy', max_depth=4, max_features='auto',\n",
       "                        random_state=100231699),\n",
       " DecisionTreeClassifier(criterion='entropy', max_depth=4, max_features='auto',\n",
       "                        random_state=1195727986),\n",
       " DecisionTreeClassifier(criterion='entropy', max_depth=4, max_features='auto',\n",
       "                        random_state=991563644),\n",
       " DecisionTreeClassifier(criterion='entropy', max_depth=4, max_features='auto',\n",
       "                        random_state=1866808598),\n",
       " DecisionTreeClassifier(criterion='entropy', max_depth=4, max_features='auto',\n",
       "                        random_state=111592440),\n",
       " DecisionTreeClassifier(criterion='entropy', max_depth=4, max_features='auto',\n",
       "                        random_state=55210468),\n",
       " DecisionTreeClassifier(criterion='entropy', max_depth=4, max_features='auto',\n",
       "                        random_state=2009939180),\n",
       " DecisionTreeClassifier(criterion='entropy', max_depth=4, max_features='auto',\n",
       "                        random_state=693143967),\n",
       " DecisionTreeClassifier(criterion='entropy', max_depth=4, max_features='auto',\n",
       "                        random_state=1725460619),\n",
       " DecisionTreeClassifier(criterion='entropy', max_depth=4, max_features='auto',\n",
       "                        random_state=1792561853),\n",
       " DecisionTreeClassifier(criterion='entropy', max_depth=4, max_features='auto',\n",
       "                        random_state=1247909830),\n",
       " DecisionTreeClassifier(criterion='entropy', max_depth=4, max_features='auto',\n",
       "                        random_state=1559572093),\n",
       " DecisionTreeClassifier(criterion='entropy', max_depth=4, max_features='auto',\n",
       "                        random_state=955431233),\n",
       " DecisionTreeClassifier(criterion='entropy', max_depth=4, max_features='auto',\n",
       "                        random_state=1662988622),\n",
       " DecisionTreeClassifier(criterion='entropy', max_depth=4, max_features='auto',\n",
       "                        random_state=2119434180),\n",
       " DecisionTreeClassifier(criterion='entropy', max_depth=4, max_features='auto',\n",
       "                        random_state=427954769),\n",
       " DecisionTreeClassifier(criterion='entropy', max_depth=4, max_features='auto',\n",
       "                        random_state=1718297979),\n",
       " DecisionTreeClassifier(criterion='entropy', max_depth=4, max_features='auto',\n",
       "                        random_state=1379807731),\n",
       " DecisionTreeClassifier(criterion='entropy', max_depth=4, max_features='auto',\n",
       "                        random_state=95551969),\n",
       " DecisionTreeClassifier(criterion='entropy', max_depth=4, max_features='auto',\n",
       "                        random_state=831966631),\n",
       " DecisionTreeClassifier(criterion='entropy', max_depth=4, max_features='auto',\n",
       "                        random_state=1871225074),\n",
       " DecisionTreeClassifier(criterion='entropy', max_depth=4, max_features='auto',\n",
       "                        random_state=1235579649),\n",
       " DecisionTreeClassifier(criterion='entropy', max_depth=4, max_features='auto',\n",
       "                        random_state=720739792),\n",
       " DecisionTreeClassifier(criterion='entropy', max_depth=4, max_features='auto',\n",
       "                        random_state=1583506462),\n",
       " DecisionTreeClassifier(criterion='entropy', max_depth=4, max_features='auto',\n",
       "                        random_state=772999888),\n",
       " DecisionTreeClassifier(criterion='entropy', max_depth=4, max_features='auto',\n",
       "                        random_state=2077072099),\n",
       " DecisionTreeClassifier(criterion='entropy', max_depth=4, max_features='auto',\n",
       "                        random_state=908590962),\n",
       " DecisionTreeClassifier(criterion='entropy', max_depth=4, max_features='auto',\n",
       "                        random_state=2058285341),\n",
       " DecisionTreeClassifier(criterion='entropy', max_depth=4, max_features='auto',\n",
       "                        random_state=1969465628),\n",
       " DecisionTreeClassifier(criterion='entropy', max_depth=4, max_features='auto',\n",
       "                        random_state=657546556),\n",
       " DecisionTreeClassifier(criterion='entropy', max_depth=4, max_features='auto',\n",
       "                        random_state=518196910),\n",
       " DecisionTreeClassifier(criterion='entropy', max_depth=4, max_features='auto',\n",
       "                        random_state=1381733716),\n",
       " DecisionTreeClassifier(criterion='entropy', max_depth=4, max_features='auto',\n",
       "                        random_state=268092860),\n",
       " DecisionTreeClassifier(criterion='entropy', max_depth=4, max_features='auto',\n",
       "                        random_state=485717687),\n",
       " DecisionTreeClassifier(criterion='entropy', max_depth=4, max_features='auto',\n",
       "                        random_state=293071224),\n",
       " DecisionTreeClassifier(criterion='entropy', max_depth=4, max_features='auto',\n",
       "                        random_state=865510214),\n",
       " DecisionTreeClassifier(criterion='entropy', max_depth=4, max_features='auto',\n",
       "                        random_state=1584641621),\n",
       " DecisionTreeClassifier(criterion='entropy', max_depth=4, max_features='auto',\n",
       "                        random_state=1017377274),\n",
       " DecisionTreeClassifier(criterion='entropy', max_depth=4, max_features='auto',\n",
       "                        random_state=1882729597),\n",
       " DecisionTreeClassifier(criterion='entropy', max_depth=4, max_features='auto',\n",
       "                        random_state=1249263807),\n",
       " DecisionTreeClassifier(criterion='entropy', max_depth=4, max_features='auto',\n",
       "                        random_state=1473923874),\n",
       " DecisionTreeClassifier(criterion='entropy', max_depth=4, max_features='auto',\n",
       "                        random_state=246502472),\n",
       " DecisionTreeClassifier(criterion='entropy', max_depth=4, max_features='auto',\n",
       "                        random_state=381533901),\n",
       " DecisionTreeClassifier(criterion='entropy', max_depth=4, max_features='auto',\n",
       "                        random_state=1303412961),\n",
       " DecisionTreeClassifier(criterion='entropy', max_depth=4, max_features='auto',\n",
       "                        random_state=1784016886),\n",
       " DecisionTreeClassifier(criterion='entropy', max_depth=4, max_features='auto',\n",
       "                        random_state=1910239236),\n",
       " DecisionTreeClassifier(criterion='entropy', max_depth=4, max_features='auto',\n",
       "                        random_state=1673426402),\n",
       " DecisionTreeClassifier(criterion='entropy', max_depth=4, max_features='auto',\n",
       "                        random_state=1696192849),\n",
       " DecisionTreeClassifier(criterion='entropy', max_depth=4, max_features='auto',\n",
       "                        random_state=1031023086),\n",
       " DecisionTreeClassifier(criterion='entropy', max_depth=4, max_features='auto',\n",
       "                        random_state=1464870717),\n",
       " DecisionTreeClassifier(criterion='entropy', max_depth=4, max_features='auto',\n",
       "                        random_state=900717100),\n",
       " DecisionTreeClassifier(criterion='entropy', max_depth=4, max_features='auto',\n",
       "                        random_state=1799426775),\n",
       " DecisionTreeClassifier(criterion='entropy', max_depth=4, max_features='auto',\n",
       "                        random_state=1998064501),\n",
       " DecisionTreeClassifier(criterion='entropy', max_depth=4, max_features='auto',\n",
       "                        random_state=733111346),\n",
       " DecisionTreeClassifier(criterion='entropy', max_depth=4, max_features='auto',\n",
       "                        random_state=1124553383),\n",
       " DecisionTreeClassifier(criterion='entropy', max_depth=4, max_features='auto',\n",
       "                        random_state=151107177),\n",
       " DecisionTreeClassifier(criterion='entropy', max_depth=4, max_features='auto',\n",
       "                        random_state=1482626261),\n",
       " DecisionTreeClassifier(criterion='entropy', max_depth=4, max_features='auto',\n",
       "                        random_state=1129098108),\n",
       " DecisionTreeClassifier(criterion='entropy', max_depth=4, max_features='auto',\n",
       "                        random_state=237743031),\n",
       " DecisionTreeClassifier(criterion='entropy', max_depth=4, max_features='auto',\n",
       "                        random_state=18664206),\n",
       " DecisionTreeClassifier(criterion='entropy', max_depth=4, max_features='auto',\n",
       "                        random_state=2023476296),\n",
       " DecisionTreeClassifier(criterion='entropy', max_depth=4, max_features='auto',\n",
       "                        random_state=1685349471),\n",
       " DecisionTreeClassifier(criterion='entropy', max_depth=4, max_features='auto',\n",
       "                        random_state=371623601),\n",
       " DecisionTreeClassifier(criterion='entropy', max_depth=4, max_features='auto',\n",
       "                        random_state=345916181),\n",
       " DecisionTreeClassifier(criterion='entropy', max_depth=4, max_features='auto',\n",
       "                        random_state=742680453),\n",
       " DecisionTreeClassifier(criterion='entropy', max_depth=4, max_features='auto',\n",
       "                        random_state=1998690261),\n",
       " DecisionTreeClassifier(criterion='entropy', max_depth=4, max_features='auto',\n",
       "                        random_state=1754720767),\n",
       " DecisionTreeClassifier(criterion='entropy', max_depth=4, max_features='auto',\n",
       "                        random_state=45183197),\n",
       " DecisionTreeClassifier(criterion='entropy', max_depth=4, max_features='auto',\n",
       "                        random_state=256995021),\n",
       " DecisionTreeClassifier(criterion='entropy', max_depth=4, max_features='auto',\n",
       "                        random_state=1271123857),\n",
       " DecisionTreeClassifier(criterion='entropy', max_depth=4, max_features='auto',\n",
       "                        random_state=1348358014),\n",
       " DecisionTreeClassifier(criterion='entropy', max_depth=4, max_features='auto',\n",
       "                        random_state=988588338),\n",
       " DecisionTreeClassifier(criterion='entropy', max_depth=4, max_features='auto',\n",
       "                        random_state=732480596),\n",
       " DecisionTreeClassifier(criterion='entropy', max_depth=4, max_features='auto',\n",
       "                        random_state=1842782938),\n",
       " DecisionTreeClassifier(criterion='entropy', max_depth=4, max_features='auto',\n",
       "                        random_state=2076483279)]"
      ]
     },
     "execution_count": 16,
     "metadata": {},
     "output_type": "execute_result"
    }
   ],
   "source": [
    "model.estimators_"
   ]
  },
  {
   "cell_type": "code",
   "execution_count": 17,
   "id": "f86b920f",
   "metadata": {},
   "outputs": [
    {
     "data": {
      "text/plain": [
       "150"
      ]
     },
     "execution_count": 17,
     "metadata": {},
     "output_type": "execute_result"
    }
   ],
   "source": [
    "len (model.estimators_)"
   ]
  },
  {
   "cell_type": "code",
   "execution_count": 18,
   "id": "93df07f6",
   "metadata": {},
   "outputs": [
    {
     "data": {
      "text/plain": [
       "[Text(544.0500000000001, 489.24, 'X[1] <= 101.0\\nentropy = 0.997\\nsamples = 173\\nvalue = [149, 131]'),\n",
       " Text(334.8, 380.52000000000004, 'X[5] <= 0.5\\nentropy = 0.984\\nsamples = 146\\nvalue = [138, 102]'),\n",
       " Text(167.4, 271.8, 'X[4] <= 103.0\\nentropy = 0.75\\nsamples = 44\\nvalue = [55, 15]'),\n",
       " Text(83.7, 163.08000000000004, 'X[1] <= 58.0\\nentropy = 0.995\\nsamples = 14\\nvalue = [13, 11]'),\n",
       " Text(41.85, 54.360000000000014, 'entropy = 0.0\\nsamples = 5\\nvalue = [9, 0]'),\n",
       " Text(125.55000000000001, 54.360000000000014, 'entropy = 0.837\\nsamples = 9\\nvalue = [4, 11]'),\n",
       " Text(251.10000000000002, 163.08000000000004, 'X[1] <= 41.5\\nentropy = 0.426\\nsamples = 30\\nvalue = [42, 4]'),\n",
       " Text(209.25, 54.360000000000014, 'entropy = 1.0\\nsamples = 4\\nvalue = [3, 3]'),\n",
       " Text(292.95, 54.360000000000014, 'entropy = 0.169\\nsamples = 26\\nvalue = [39, 1]'),\n",
       " Text(502.20000000000005, 271.8, 'X[4] <= 93.5\\nentropy = 1.0\\nsamples = 102\\nvalue = [83, 87]'),\n",
       " Text(418.5, 163.08000000000004, 'X[7] <= 15.5\\nentropy = 0.267\\nsamples = 14\\nvalue = [1, 21]'),\n",
       " Text(376.65000000000003, 54.360000000000014, 'entropy = 0.0\\nsamples = 9\\nvalue = [0, 15]'),\n",
       " Text(460.35, 54.360000000000014, 'entropy = 0.592\\nsamples = 5\\nvalue = [1, 6]'),\n",
       " Text(585.9, 163.08000000000004, 'X[0] <= 113.5\\nentropy = 0.992\\nsamples = 88\\nvalue = [82, 66]'),\n",
       " Text(544.0500000000001, 54.360000000000014, 'entropy = 0.222\\nsamples = 13\\nvalue = [27, 1]'),\n",
       " Text(627.75, 54.360000000000014, 'entropy = 0.995\\nsamples = 75\\nvalue = [55, 65]'),\n",
       " Text(753.3000000000001, 380.52000000000004, 'X[4] <= 130.0\\nentropy = 0.849\\nsamples = 27\\nvalue = [11, 29]'),\n",
       " Text(711.45, 271.8, 'X[6] <= 69.5\\nentropy = 0.602\\nsamples = 22\\nvalue = [5, 29]'),\n",
       " Text(669.6, 163.08000000000004, 'entropy = 0.0\\nsamples = 18\\nvalue = [0, 29]'),\n",
       " Text(753.3000000000001, 163.08000000000004, 'entropy = 0.0\\nsamples = 4\\nvalue = [5, 0]'),\n",
       " Text(795.15, 271.8, 'entropy = 0.0\\nsamples = 5\\nvalue = [6, 0]')]"
      ]
     },
     "execution_count": 18,
     "metadata": {},
     "output_type": "execute_result"
    },
    {
     "data": {
      "image/png": "[encoded data removed]",
      "text/plain": [
       "<Figure size 1080x720 with 1 Axes>"
      ]
     },
     "metadata": {
      "needs_background": "light"
     },
     "output_type": "display_data"
    }
   ],
   "source": [
    "plt.figure (figsize = (15,10))\n",
    "tree.plot_tree (model.estimators_[1], filled = True)"
   ]
  },
  {
   "cell_type": "code",
   "execution_count": 19,
   "id": "bcc1b0d4",
   "metadata": {},
   "outputs": [],
   "source": [
    "#Predicting on training data\n",
    "pred_train = model.predict(x_train)"
   ]
  },
  {
   "cell_type": "code",
   "execution_count": 20,
   "id": "37b326e2",
   "metadata": {},
   "outputs": [],
   "source": [
    "#Accuracy on training data\n",
    "from sklearn.metrics import accuracy_score"
   ]
  },
  {
   "cell_type": "code",
   "execution_count": 21,
   "id": "3d1f7707",
   "metadata": {},
   "outputs": [
    {
     "name": "stdout",
     "output_type": "stream",
     "text": [
      "0.9321428571428572\n"
     ]
    }
   ],
   "source": [
    "accuracy_train = accuracy_score(y_train,pred_train)\n",
    "print(accuracy_score(y_train,pred_train))"
   ]
  },
  {
   "cell_type": "code",
   "execution_count": 22,
   "id": "71ca2eb1",
   "metadata": {},
   "outputs": [],
   "source": [
    "#Confusion matrix\n",
    "from sklearn.metrics import confusion_matrix\n",
    "con_train = confusion_matrix(y_train,pred_train)"
   ]
  },
  {
   "cell_type": "code",
   "execution_count": 23,
   "id": "f9ac9ad7",
   "metadata": {},
   "outputs": [],
   "source": [
    "#Prediction on test data\n",
    "pred_test = model.predict(x_test)"
   ]
  },
  {
   "cell_type": "code",
   "execution_count": 24,
   "id": "64948400",
   "metadata": {},
   "outputs": [],
   "source": [
    "#Accuracy on test data\n",
    "accuracy_test = accuracy_score(y_test,pred_test)"
   ]
  },
  {
   "cell_type": "code",
   "execution_count": 25,
   "id": "de0f3a5c",
   "metadata": {},
   "outputs": [
    {
     "data": {
      "text/plain": [
       "0.8"
      ]
     },
     "execution_count": 25,
     "metadata": {},
     "output_type": "execute_result"
    }
   ],
   "source": [
    "np.mean(y_test==pred_test)"
   ]
  }
 ],
 "metadata": {
  "kernelspec": {
   "display_name": "Python 3",
   "language": "python",
   "name": "python3"
  },
  "language_info": {
   "codemirror_mode": {
    "name": "ipython",
    "version": 3
   },
   "file_extension": ".py",
   "mimetype": "text/x-python",
   "name": "python",
   "nbconvert_exporter": "python",
   "pygments_lexer": "ipython3",
   "version": "3.8.8"
  }
 },
 "nbformat": 4,
 "nbformat_minor": 5
}
